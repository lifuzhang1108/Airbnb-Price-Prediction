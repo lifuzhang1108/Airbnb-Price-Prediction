{
 "cells": [
  {
   "cell_type": "code",
   "execution_count": 5,
   "metadata": {},
   "outputs": [
    {
     "name": "stdout",
     "output_type": "stream",
     "text": [
      "2.0.0\n"
     ]
    }
   ],
   "source": [
    "from __future__ import absolute_import, division, print_function, unicode_literals\n",
    "\n",
    "import pathlib\n",
    "\n",
    "import matplotlib.pyplot as plt\n",
    "import pandas as pd\n",
    "import seaborn as sns\n",
    "\n",
    "import tensorflow as tf\n",
    "\n",
    "from tensorflow import keras\n",
    "from tensorflow.keras import layers\n",
    "\n",
    "print(tf.__version__)"
   ]
  },
  {
   "cell_type": "code",
   "execution_count": 6,
   "metadata": {},
   "outputs": [],
   "source": [
    "import numpy as np\n",
    "import matplotlib.pyplot as plt  # To visualize\n",
    "import pandas as pd  # To read data\n",
    "from sklearn.linear_model import LinearRegression\n",
    "data = pd.read_csv('data.csv')\n",
    "train = pd.read_csv('train.csv')\n",
    "val = pd.read_csv('val.csv')\n",
    "test = pd.read_csv('test.csv')\n",
    "\n"
   ]
  },
  {
   "cell_type": "code",
   "execution_count": null,
   "metadata": {
    "scrolled": true
   },
   "outputs": [],
   "source": [
    "from statistics import mode \n",
    "data.fillna(data.mean(), inplace=True)\n",
    "data['host_since'].fillna(mode(data['host_since']), inplace=True)\n",
    "data['host_response_time'].fillna(mode(data['host_response_time']), inplace=True)\n",
    "data['host_response_rate'].fillna(mode(data['host_response_rate']), inplace=True)\n",
    "data['host_is_superhost'].fillna(mode(data['host_is_superhost']), inplace=True)\n",
    "data['host_listings_count'].fillna(mode(data['host_listings_count']), inplace=True)\n",
    "data['host_identity_verified'].fillna(mode(data['host_identity_verified']), inplace=True)\n",
    "print(data.isnull().sum())"
   ]
  },
  {
   "cell_type": "code",
   "execution_count": null,
   "metadata": {},
   "outputs": [],
   "source": [
    "\n",
    "def convert_to_year(date_in_some_format):\n",
    "    date_as_string = str(date_in_some_format)\n",
    "    year_as_string = date_as_string[:4] # last four characters\n",
    "    return int(year_as_string)\n",
    "\n",
    "def percent_to_float(s):\n",
    "    s = str(float(s.rstrip(\"%\")))\n",
    "    i = s.find(\".\")\n",
    "    if i == -1:\n",
    "        return int(s) / 100\n",
    "    if s.startswith(\"-\"):\n",
    "        return -percent_to_float(s.lstrip(\"-\"))\n",
    "    s = s.replace(\".\", \"\")\n",
    "    i -= 2\n",
    "    if i < 0:\n",
    "        return float(\".\" + \"0\" * abs(i) + s)\n",
    "    else:\n",
    "        return float(s[:i] + \".\" + s[i:])\n",
    "def boolean_to_int(b):\n",
    "    if b=='t':\n",
    "        return 0\n",
    "    elif b=='f':\n",
    "        return 1\n",
    "    else:\n",
    "        return\n"
   ]
  },
  {
   "cell_type": "code",
   "execution_count": null,
   "metadata": {},
   "outputs": [],
   "source": [
    "data['host_since'] = data['host_since'] .apply(convert_to_year)\n",
    "data['host_response_rate'] = data['host_response_rate'] .apply(percent_to_float)\n",
    "data['host_is_superhost'] = data['host_is_superhost'] .apply(boolean_to_int)\n",
    "data['host_identity_verified'] = data['host_identity_verified'] .apply(boolean_to_int)\n",
    "data['is_location_exact'] = data['is_location_exact'] .apply(boolean_to_int)\n",
    "\n",
    "print(data)"
   ]
  },
  {
   "cell_type": "code",
   "execution_count": null,
   "metadata": {},
   "outputs": [],
   "source": []
  },
  {
   "cell_type": "code",
   "execution_count": null,
   "metadata": {},
   "outputs": [],
   "source": [
    "pd.set_option('display.max_columns', None)\n",
    "data.tail()\n"
   ]
  },
  {
   "cell_type": "code",
   "execution_count": null,
   "metadata": {},
   "outputs": [],
   "source": [
    "data_train=data[data.id.isin(train.id)]\n",
    "y_train=data_train.price\n",
    "x_train=data_train.drop(columns=['price','zipcode','first_review','last_review','amenities'])\n",
    "\n",
    "\n",
    "\n",
    "data_val=data[data.id.isin(val.id)]\n",
    "y_val=data_val.price\n",
    "x_val=data_val.drop(columns=['price','zipcode','first_review','last_review','amenities'])\n",
    "\n",
    "data_test=data[data.id.isin(test.id)]\n",
    "y_test=data_test.price\n",
    "x_test=data_test.drop(columns=['price','zipcode','first_review','last_review','amenities'])\n",
    "\n"
   ]
  },
  {
   "cell_type": "code",
   "execution_count": null,
   "metadata": {},
   "outputs": [],
   "source": [
    "print(x_train)"
   ]
  },
  {
   "cell_type": "code",
   "execution_count": null,
   "metadata": {},
   "outputs": [],
   "source": [
    "data=pd.get_dummies(data, columns=[\"host_response_time\"])\n",
    "data=pd.get_dummies(data, columns=[\"property_type\"])\n",
    "data=pd.get_dummies(data, columns=[\"room_type\"])\n",
    "data=pd.get_dummies(data, columns=[\"bed_type\"])\n",
    "print('done')"
   ]
  },
  {
   "cell_type": "code",
   "execution_count": null,
   "metadata": {},
   "outputs": [],
   "source": [
    "print(data.id)"
   ]
  },
  {
   "cell_type": "code",
   "execution_count": null,
   "metadata": {},
   "outputs": [],
   "source": [
    "data.to_csv(r'data_p.csv')"
   ]
  },
  {
   "cell_type": "code",
   "execution_count": null,
   "metadata": {},
   "outputs": [],
   "source": []
  }
 ],
 "metadata": {
  "kernelspec": {
   "display_name": "Python 3",
   "language": "python",
   "name": "python3"
  },
  "language_info": {
   "codemirror_mode": {
    "name": "ipython",
    "version": 3
   },
   "file_extension": ".py",
   "mimetype": "text/x-python",
   "name": "python",
   "nbconvert_exporter": "python",
   "pygments_lexer": "ipython3",
   "version": "3.7.5"
  }
 },
 "nbformat": 4,
 "nbformat_minor": 2
}
