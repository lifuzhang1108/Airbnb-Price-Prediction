{
 "cells": [
  {
   "cell_type": "code",
   "execution_count": 13,
   "metadata": {},
   "outputs": [
    {
     "name": "stdout",
     "output_type": "stream",
     "text": [
      "2.0.0\n"
     ]
    }
   ],
   "source": [
    "from __future__ import absolute_import, division, print_function, unicode_literals\n",
    "\n",
    "import pathlib\n",
    "\n",
    "import matplotlib.pyplot as plt\n",
    "import pandas as pd\n",
    "import seaborn as sns\n",
    "\n",
    "import tensorflow as tf\n",
    "\n",
    "from tensorflow import keras\n",
    "from tensorflow.keras import layers\n",
    "\n",
    "print(tf.__version__)"
   ]
  },
  {
   "cell_type": "code",
   "execution_count": 14,
   "metadata": {},
   "outputs": [],
   "source": [
    "import numpy as np\n",
    "import matplotlib.pyplot as plt  # To visualize\n",
    "import pandas as pd  # To read data\n",
    "from sklearn.linear_model import LinearRegression\n",
    "data = pd.read_csv('data.csv',encoding=\"ISO-8859-1\")\n",
    "train = pd.read_csv('train.csv')\n",
    "val = pd.read_csv('val.csv')\n",
    "test = pd.read_csv('test.csv')\n",
    "\n"
   ]
  },
  {
   "cell_type": "code",
   "execution_count": 15,
   "metadata": {
    "scrolled": true
   },
   "outputs": [
    {
     "name": "stdout",
     "output_type": "stream",
     "text": [
      "id                                0\n",
      "host_since                        0\n",
      "host_response_time                0\n",
      "host_response_rate                0\n",
      "host_is_superhost                 0\n",
      "host_listings_count               0\n",
      "host_identity_verified            0\n",
      "zipcode                          94\n",
      "latitude                          0\n",
      "longitude                         0\n",
      "is_location_exact                 0\n",
      "property_type                     0\n",
      "room_type                         0\n",
      "accommodates                      0\n",
      "bathrooms                         0\n",
      "bedrooms                          0\n",
      "beds                              0\n",
      "bed_type                          0\n",
      "amenities                         0\n",
      "square_feet                       0\n",
      "number_of_reviews                 0\n",
      "number_of_reviews_ltm             0\n",
      "first_review                   2007\n",
      "last_review                    2007\n",
      "review_scores_rating              0\n",
      "review_scores_accuracy            0\n",
      "review_scores_cleanliness         0\n",
      "review_scores_checkin             0\n",
      "review_scores_communication       0\n",
      "review_scores_location            0\n",
      "review_scores_value               0\n",
      "price                             0\n",
      "dtype: int64\n"
     ]
    }
   ],
   "source": [
    "from statistics import mode \n",
    "data.fillna(data.mean(), inplace=True)\n",
    "data['host_since'].fillna(mode(data['host_since']), inplace=True)\n",
    "data['host_response_time'].fillna(mode(data['host_response_time']), inplace=True)\n",
    "data['host_response_rate'].fillna(mode(data['host_response_rate']), inplace=True)\n",
    "data['host_is_superhost'].fillna(mode(data['host_is_superhost']), inplace=True)\n",
    "data['host_listings_count'].fillna(mode(data['host_listings_count']), inplace=True)\n",
    "data['host_identity_verified'].fillna(mode(data['host_identity_verified']), inplace=True)\n",
    "print(data.isnull().sum())"
   ]
  },
  {
   "cell_type": "code",
   "execution_count": 11,
   "metadata": {},
   "outputs": [],
   "source": [
    "\n",
    "def convert_to_year(date_in_some_format):\n",
    "    date_as_string = str(date_in_some_format)\n",
    "    year_as_string = date_as_string[:4] # last four characters\n",
    "    return int(year_as_string)\n",
    "\n",
    "def percent_to_float(s):\n",
    "    s = str(float(s.rstrip(\"%\")))\n",
    "    i = s.find(\".\")\n",
    "    if i == -1:\n",
    "        return int(s) / 100\n",
    "    if s.startswith(\"-\"):\n",
    "        return -percent_to_float(s.lstrip(\"-\"))\n",
    "    s = s.replace(\".\", \"\")\n",
    "    i -= 2\n",
    "    if i < 0:\n",
    "        return float(\".\" + \"0\" * abs(i) + s)\n",
    "    else:\n",
    "        return float(s[:i] + \".\" + s[i:])\n",
    "def boolean_to_int(b):\n",
    "    if b=='t':\n",
    "        return 1\n",
    "    elif b=='f':\n",
    "        return 0\n",
    "    else:\n",
    "        return\n"
   ]
  },
  {
   "cell_type": "code",
   "execution_count": 12,
   "metadata": {},
   "outputs": [
    {
     "ename": "ValueError",
     "evalue": "invalid literal for int() with base 10: '08/8'",
     "output_type": "error",
     "traceback": [
      "\u001b[0;31m---------------------------------------------------------------------------\u001b[0m",
      "\u001b[0;31mValueError\u001b[0m                                Traceback (most recent call last)",
      "\u001b[0;32m<ipython-input-12-7e6e60fb6ba5>\u001b[0m in \u001b[0;36m<module>\u001b[0;34m\u001b[0m\n\u001b[0;32m----> 1\u001b[0;31m \u001b[0mdata\u001b[0m\u001b[0;34m[\u001b[0m\u001b[0;34m'host_since'\u001b[0m\u001b[0;34m]\u001b[0m \u001b[0;34m=\u001b[0m \u001b[0mdata\u001b[0m\u001b[0;34m[\u001b[0m\u001b[0;34m'host_since'\u001b[0m\u001b[0;34m]\u001b[0m \u001b[0;34m.\u001b[0m\u001b[0mapply\u001b[0m\u001b[0;34m(\u001b[0m\u001b[0mconvert_to_year\u001b[0m\u001b[0;34m)\u001b[0m\u001b[0;34m\u001b[0m\u001b[0;34m\u001b[0m\u001b[0m\n\u001b[0m\u001b[1;32m      2\u001b[0m \u001b[0mdata\u001b[0m\u001b[0;34m[\u001b[0m\u001b[0;34m'host_response_rate'\u001b[0m\u001b[0;34m]\u001b[0m \u001b[0;34m=\u001b[0m \u001b[0mdata\u001b[0m\u001b[0;34m[\u001b[0m\u001b[0;34m'host_response_rate'\u001b[0m\u001b[0;34m]\u001b[0m \u001b[0;34m.\u001b[0m\u001b[0mapply\u001b[0m\u001b[0;34m(\u001b[0m\u001b[0mpercent_to_float\u001b[0m\u001b[0;34m)\u001b[0m\u001b[0;34m\u001b[0m\u001b[0;34m\u001b[0m\u001b[0m\n\u001b[1;32m      3\u001b[0m \u001b[0mdata\u001b[0m\u001b[0;34m[\u001b[0m\u001b[0;34m'host_is_superhost'\u001b[0m\u001b[0;34m]\u001b[0m \u001b[0;34m=\u001b[0m \u001b[0mdata\u001b[0m\u001b[0;34m[\u001b[0m\u001b[0;34m'host_is_superhost'\u001b[0m\u001b[0;34m]\u001b[0m \u001b[0;34m.\u001b[0m\u001b[0mapply\u001b[0m\u001b[0;34m(\u001b[0m\u001b[0mboolean_to_int\u001b[0m\u001b[0;34m)\u001b[0m\u001b[0;34m\u001b[0m\u001b[0;34m\u001b[0m\u001b[0m\n\u001b[1;32m      4\u001b[0m \u001b[0mdata\u001b[0m\u001b[0;34m[\u001b[0m\u001b[0;34m'host_identity_verified'\u001b[0m\u001b[0;34m]\u001b[0m \u001b[0;34m=\u001b[0m \u001b[0mdata\u001b[0m\u001b[0;34m[\u001b[0m\u001b[0;34m'host_identity_verified'\u001b[0m\u001b[0;34m]\u001b[0m \u001b[0;34m.\u001b[0m\u001b[0mapply\u001b[0m\u001b[0;34m(\u001b[0m\u001b[0mboolean_to_int\u001b[0m\u001b[0;34m)\u001b[0m\u001b[0;34m\u001b[0m\u001b[0;34m\u001b[0m\u001b[0m\n\u001b[1;32m      5\u001b[0m \u001b[0mdata\u001b[0m\u001b[0;34m[\u001b[0m\u001b[0;34m'is_location_exact'\u001b[0m\u001b[0;34m]\u001b[0m \u001b[0;34m=\u001b[0m \u001b[0mdata\u001b[0m\u001b[0;34m[\u001b[0m\u001b[0;34m'is_location_exact'\u001b[0m\u001b[0;34m]\u001b[0m \u001b[0;34m.\u001b[0m\u001b[0mapply\u001b[0m\u001b[0;34m(\u001b[0m\u001b[0mboolean_to_int\u001b[0m\u001b[0;34m)\u001b[0m\u001b[0;34m\u001b[0m\u001b[0;34m\u001b[0m\u001b[0m\n",
      "\u001b[0;32m~/anaconda3/lib/python3.7/site-packages/pandas/core/series.py\u001b[0m in \u001b[0;36mapply\u001b[0;34m(self, func, convert_dtype, args, **kwds)\u001b[0m\n\u001b[1;32m   4043\u001b[0m             \u001b[0;32melse\u001b[0m\u001b[0;34m:\u001b[0m\u001b[0;34m\u001b[0m\u001b[0;34m\u001b[0m\u001b[0m\n\u001b[1;32m   4044\u001b[0m                 \u001b[0mvalues\u001b[0m \u001b[0;34m=\u001b[0m \u001b[0mself\u001b[0m\u001b[0;34m.\u001b[0m\u001b[0mastype\u001b[0m\u001b[0;34m(\u001b[0m\u001b[0mobject\u001b[0m\u001b[0;34m)\u001b[0m\u001b[0;34m.\u001b[0m\u001b[0mvalues\u001b[0m\u001b[0;34m\u001b[0m\u001b[0;34m\u001b[0m\u001b[0m\n\u001b[0;32m-> 4045\u001b[0;31m                 \u001b[0mmapped\u001b[0m \u001b[0;34m=\u001b[0m \u001b[0mlib\u001b[0m\u001b[0;34m.\u001b[0m\u001b[0mmap_infer\u001b[0m\u001b[0;34m(\u001b[0m\u001b[0mvalues\u001b[0m\u001b[0;34m,\u001b[0m \u001b[0mf\u001b[0m\u001b[0;34m,\u001b[0m \u001b[0mconvert\u001b[0m\u001b[0;34m=\u001b[0m\u001b[0mconvert_dtype\u001b[0m\u001b[0;34m)\u001b[0m\u001b[0;34m\u001b[0m\u001b[0;34m\u001b[0m\u001b[0m\n\u001b[0m\u001b[1;32m   4046\u001b[0m \u001b[0;34m\u001b[0m\u001b[0m\n\u001b[1;32m   4047\u001b[0m         \u001b[0;32mif\u001b[0m \u001b[0mlen\u001b[0m\u001b[0;34m(\u001b[0m\u001b[0mmapped\u001b[0m\u001b[0;34m)\u001b[0m \u001b[0;32mand\u001b[0m \u001b[0misinstance\u001b[0m\u001b[0;34m(\u001b[0m\u001b[0mmapped\u001b[0m\u001b[0;34m[\u001b[0m\u001b[0;36m0\u001b[0m\u001b[0;34m]\u001b[0m\u001b[0;34m,\u001b[0m \u001b[0mSeries\u001b[0m\u001b[0;34m)\u001b[0m\u001b[0;34m:\u001b[0m\u001b[0;34m\u001b[0m\u001b[0;34m\u001b[0m\u001b[0m\n",
      "\u001b[0;32mpandas/_libs/lib.pyx\u001b[0m in \u001b[0;36mpandas._libs.lib.map_infer\u001b[0;34m()\u001b[0m\n",
      "\u001b[0;32m<ipython-input-11-d85672d6c9b1>\u001b[0m in \u001b[0;36mconvert_to_year\u001b[0;34m(date_in_some_format)\u001b[0m\n\u001b[1;32m      2\u001b[0m     \u001b[0mdate_as_string\u001b[0m \u001b[0;34m=\u001b[0m \u001b[0mstr\u001b[0m\u001b[0;34m(\u001b[0m\u001b[0mdate_in_some_format\u001b[0m\u001b[0;34m)\u001b[0m\u001b[0;34m\u001b[0m\u001b[0;34m\u001b[0m\u001b[0m\n\u001b[1;32m      3\u001b[0m     \u001b[0myear_as_string\u001b[0m \u001b[0;34m=\u001b[0m \u001b[0mdate_as_string\u001b[0m\u001b[0;34m[\u001b[0m\u001b[0;34m:\u001b[0m\u001b[0;36m4\u001b[0m\u001b[0;34m]\u001b[0m \u001b[0;31m# last four characters\u001b[0m\u001b[0;34m\u001b[0m\u001b[0;34m\u001b[0m\u001b[0m\n\u001b[0;32m----> 4\u001b[0;31m     \u001b[0;32mreturn\u001b[0m \u001b[0mint\u001b[0m\u001b[0;34m(\u001b[0m\u001b[0myear_as_string\u001b[0m\u001b[0;34m)\u001b[0m\u001b[0;34m\u001b[0m\u001b[0;34m\u001b[0m\u001b[0m\n\u001b[0m\u001b[1;32m      5\u001b[0m \u001b[0;34m\u001b[0m\u001b[0m\n\u001b[1;32m      6\u001b[0m \u001b[0;32mdef\u001b[0m \u001b[0mpercent_to_float\u001b[0m\u001b[0;34m(\u001b[0m\u001b[0ms\u001b[0m\u001b[0;34m)\u001b[0m\u001b[0;34m:\u001b[0m\u001b[0;34m\u001b[0m\u001b[0;34m\u001b[0m\u001b[0m\n",
      "\u001b[0;31mValueError\u001b[0m: invalid literal for int() with base 10: '08/8'"
     ]
    }
   ],
   "source": [
    "data['host_since'] = data['host_since'] .apply(convert_to_year)\n",
    "data['host_response_rate'] = data['host_response_rate'] .apply(percent_to_float)\n",
    "data['host_is_superhost'] = data['host_is_superhost'] .apply(boolean_to_int)\n",
    "data['host_identity_verified'] = data['host_identity_verified'] .apply(boolean_to_int)\n",
    "data['is_location_exact'] = data['is_location_exact'] .apply(boolean_to_int)\n",
    "\n",
    "print(data)"
   ]
  },
  {
   "cell_type": "code",
   "execution_count": null,
   "metadata": {},
   "outputs": [],
   "source": []
  },
  {
   "cell_type": "code",
   "execution_count": null,
   "metadata": {},
   "outputs": [],
   "source": [
    "pd.set_option('display.max_columns', None)\n",
    "data.tail()\n"
   ]
  },
  {
   "cell_type": "code",
   "execution_count": 10,
   "metadata": {},
   "outputs": [],
   "source": [
    "data_train=data[data.id.isin(train.id)]\n",
    "y_train=data_train.price\n",
    "x_train=data_train.drop(columns=['price','zipcode','first_review','last_review','amenities'])\n",
    "\n",
    "\n",
    "\n",
    "data_val=data[data.id.isin(val.id)]\n",
    "y_val=data_val.price\n",
    "x_val=data_val.drop(columns=['price','zipcode','first_review','last_review','amenities'])\n",
    "\n",
    "data_test=data[data.id.isin(test.id)]\n",
    "y_test=data_test.price\n",
    "x_test=data_test.drop(columns=['price','zipcode','first_review','last_review','amenities'])\n",
    "\n"
   ]
  },
  {
   "cell_type": "code",
   "execution_count": 140,
   "metadata": {},
   "outputs": [
    {
     "name": "stdout",
     "output_type": "stream",
     "text": [
      "          id  host_since  host_response_time  host_response_rate  \\\n",
      "3          3        2009      within an hour                 1.0   \n",
      "4          4        2009      within an hour                 1.0   \n",
      "6          6        2009        within a day                 1.0   \n",
      "7          7        2009  within a few hours                 1.0   \n",
      "11        11        2010      within an hour                 1.0   \n",
      "...      ...         ...                 ...                 ...   \n",
      "10146  11333        2015      within an hour                 1.0   \n",
      "10147  11334        2017      within an hour                 1.0   \n",
      "10148  11335        2015      within an hour                 1.0   \n",
      "10149  11336        2019      within an hour                 1.0   \n",
      "10151  11338        2019      within an hour                 1.0   \n",
      "\n",
      "       host_is_superhost  host_listings_count  host_identity_verified  \\\n",
      "3                      0                  1.0                       0   \n",
      "4                      0                  1.0                       1   \n",
      "6                      1                  1.0                       1   \n",
      "7                      1                  1.0                       0   \n",
      "11                     1                  2.0                       0   \n",
      "...                  ...                  ...                     ...   \n",
      "10146                  1                  0.0                       1   \n",
      "10147                  1                  2.0                       1   \n",
      "10148                  1                  1.0                       1   \n",
      "10149                  1                  1.0                       1   \n",
      "10151                  1                  1.0                       0   \n",
      "\n",
      "       latitude  longitude  is_location_exact property_type        room_type  \\\n",
      "3      30.45596  -97.78370                  0         House     Private room   \n",
      "4      30.24829  -97.73726                  0    Guesthouse  Entire home/apt   \n",
      "6      30.23616  -97.73682                  0   Guest suite  Entire home/apt   \n",
      "7      30.25012  -97.74193                  0         House  Entire home/apt   \n",
      "11     30.38957  -97.76216                  0   Condominium  Entire home/apt   \n",
      "...         ...        ...                ...           ...              ...   \n",
      "10146  30.27048  -97.74871                  0         Hotel     Private room   \n",
      "10147  30.25875  -97.78971                  0     Apartment  Entire home/apt   \n",
      "10148  30.19054  -97.77535                  1     Apartment  Entire home/apt   \n",
      "10149  30.18790  -97.76552                  1     Apartment     Private room   \n",
      "10151  30.25454  -97.83561                  0         House     Private room   \n",
      "\n",
      "       accommodates  bathrooms  bedrooms  beds  bed_type  square_feet  \\\n",
      "3                 2        1.0  1.000000   1.0  Real Bed  1041.262857   \n",
      "4                 2        1.0  1.614884   1.0  Real Bed   550.000000   \n",
      "6                 2        1.0  1.000000   1.0  Real Bed  1041.262857   \n",
      "7                 5        2.0  2.000000   4.0  Real Bed  1041.262857   \n",
      "11                4        2.5  2.000000   2.0  Real Bed  1900.000000   \n",
      "...             ...        ...       ...   ...       ...          ...   \n",
      "10146             4        1.0  1.000000   2.0  Real Bed  1041.262857   \n",
      "10147             8        2.0  2.000000   4.0  Real Bed  1041.262857   \n",
      "10148             2        1.0  1.000000   1.0  Real Bed  1041.262857   \n",
      "10149             2        1.0  1.000000   1.0  Real Bed  1041.262857   \n",
      "10151             2        1.0  1.000000   1.0  Real Bed  1041.262857   \n",
      "\n",
      "       number_of_reviews  number_of_reviews_ltm  review_scores_rating  \\\n",
      "3                    253                     16             98.000000   \n",
      "4                    100                     23             99.000000   \n",
      "6                     46                      2             92.000000   \n",
      "7                     47                      7             94.000000   \n",
      "11                     9                      0             98.000000   \n",
      "...                  ...                    ...                   ...   \n",
      "10146                  0                      0             96.287935   \n",
      "10147                  0                      0             96.287935   \n",
      "10148                  1                      1             96.287935   \n",
      "10149                  0                      0             96.287935   \n",
      "10151                  0                      0             96.287935   \n",
      "\n",
      "       review_scores_accuracy  review_scores_cleanliness  \\\n",
      "3                   10.000000                  10.000000   \n",
      "4                   10.000000                  10.000000   \n",
      "6                    9.000000                   9.000000   \n",
      "7                   10.000000                  10.000000   \n",
      "11                  10.000000                   9.000000   \n",
      "...                       ...                        ...   \n",
      "10146                9.786088                   9.625358   \n",
      "10147                9.786088                   9.625358   \n",
      "10148                9.786088                   9.625358   \n",
      "10149                9.786088                   9.625358   \n",
      "10151                9.786088                   9.625358   \n",
      "\n",
      "       review_scores_checkin  review_scores_communication  \\\n",
      "3                  10.000000                    10.000000   \n",
      "4                  10.000000                    10.000000   \n",
      "6                  10.000000                    10.000000   \n",
      "7                  10.000000                    10.000000   \n",
      "11                 10.000000                    10.000000   \n",
      "...                      ...                          ...   \n",
      "10146               9.871562                     9.876556   \n",
      "10147               9.871562                     9.876556   \n",
      "10148               9.871562                     9.876556   \n",
      "10149               9.871562                     9.876556   \n",
      "10151               9.871562                     9.876556   \n",
      "\n",
      "       review_scores_location  review_scores_value  \n",
      "3                   10.000000             10.00000  \n",
      "4                   10.000000             10.00000  \n",
      "6                    9.000000              9.00000  \n",
      "7                   10.000000              9.00000  \n",
      "11                  10.000000             10.00000  \n",
      "...                       ...                  ...  \n",
      "10146                9.783313              9.62637  \n",
      "10147                9.783313              9.62637  \n",
      "10148                9.783313              9.62637  \n",
      "10149                9.783313              9.62637  \n",
      "10151                9.783313              9.62637  \n",
      "\n",
      "[6152 rows x 27 columns]\n"
     ]
    }
   ],
   "source": [
    "print(x_train)"
   ]
  },
  {
   "cell_type": "code",
   "execution_count": 14,
   "metadata": {},
   "outputs": [
    {
     "name": "stdout",
     "output_type": "stream",
     "text": [
      "done\n"
     ]
    }
   ],
   "source": [
    "data=pd.get_dummies(data, columns=[\"host_response_time\"])\n",
    "data=pd.get_dummies(data, columns=[\"property_type\"])\n",
    "data=pd.get_dummies(data, columns=[\"room_type\"])\n",
    "data=pd.get_dummies(data, columns=[\"bed_type\"])\n",
    "print('done')"
   ]
  },
  {
   "cell_type": "code",
   "execution_count": 7,
   "metadata": {},
   "outputs": [
    {
     "name": "stdout",
     "output_type": "stream",
     "text": [
      "0            0\n",
      "1            1\n",
      "2            2\n",
      "3            3\n",
      "4            4\n",
      "         ...  \n",
      "10147    11334\n",
      "10148    11335\n",
      "10149    11336\n",
      "10150    11337\n",
      "10151    11338\n",
      "Name: id, Length: 10152, dtype: int64\n"
     ]
    }
   ],
   "source": [
    "print(data.id)"
   ]
  },
  {
   "cell_type": "code",
   "execution_count": 17,
   "metadata": {},
   "outputs": [],
   "source": [
    "data.to_csv(r'data_p.csv')"
   ]
  },
  {
   "cell_type": "code",
   "execution_count": null,
   "metadata": {},
   "outputs": [],
   "source": []
  }
 ],
 "metadata": {
  "kernelspec": {
   "display_name": "Python 3",
   "language": "python",
   "name": "python3"
  },
  "language_info": {
   "codemirror_mode": {
    "name": "ipython",
    "version": 3
   },
   "file_extension": ".py",
   "mimetype": "text/x-python",
   "name": "python",
   "nbconvert_exporter": "python",
   "pygments_lexer": "ipython3",
   "version": "3.7.5"
  }
 },
 "nbformat": 4,
 "nbformat_minor": 2
}
