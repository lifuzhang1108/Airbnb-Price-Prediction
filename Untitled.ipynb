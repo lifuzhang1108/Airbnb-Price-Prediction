{
 "cells": [
  {
   "cell_type": "code",
   "execution_count": 4,
   "metadata": {},
   "outputs": [],
   "source": [
    "import numpy as np\n",
    "import matplotlib.pyplot as plt  # To visualize\n",
    "import pandas as pd  # To read data\n",
    "from sklearn.linear_model import LinearRegression\n",
    "data = pd.read_csv('data.csv')\n",
    "train = pd.read_csv('train.csv')\n",
    "val = pd.read_csv('val.csv')\n",
    "test = pd.read_csv('test.csv')\n",
    "data_train=data[data.id.isin(train.id)]\n",
    "\n",
    "y_train=data_train.price\n",
    "x_train=data_train.drop(columns=['price','id','zipcode','first_review','last_review','host_identity_verified','host_is_superhost','host_response_rate','host_since','host_response_time','is_location_exact','property_type','room_type','bed_type','amenities'])\n",
    "\n",
    "\n",
    "\n",
    "data_val=data[data.id.isin(val.id)]\n",
    "\n",
    "y_val=data_val.price\n",
    "x_val=data_val.drop(columns=['price','id','zipcode','first_review','last_review','host_identity_verified','host_is_superhost','host_response_rate','host_since','host_response_time','is_location_exact','property_type','room_type','bed_type','amenities'])\n",
    "\n",
    "data_test=data[data.id.isin(test.id)]\n",
    "\n",
    "y_test=data_test.price\n",
    "x_test=data_test.drop(columns=['price','id','zipcode','first_review','last_review','host_identity_verified','host_is_superhost','host_response_rate','host_since','host_response_time','is_location_exact','property_type','room_type','bed_type','amenities'])\n",
    "\n",
    "y_train.fillna(y_train.mean(), inplace=True)\n",
    "x_train.fillna(x_train.mean(), inplace=True)\n",
    "x_val.fillna(x_val.mean(), inplace=True)"
   ]
  },
  {
   "cell_type": "code",
   "execution_count": 5,
   "metadata": {},
   "outputs": [
    {
     "name": "stdout",
     "output_type": "stream",
     "text": [
      "2051\n",
      "2051\n"
     ]
    }
   ],
   "source": [
    "print(y_test.isnull().sum())\n",
    "\n",
    "print(y_test.isnull().sum())"
   ]
  },
  {
   "cell_type": "code",
   "execution_count": 6,
   "metadata": {},
   "outputs": [
    {
     "name": "stdout",
     "output_type": "stream",
     "text": [
      "1        100.0\n",
      "8        300.0\n",
      "9        550.0\n",
      "10       220.0\n",
      "15        55.0\n",
      "         ...  \n",
      "10129    142.0\n",
      "10131     95.0\n",
      "10132    375.0\n",
      "10133    300.0\n",
      "10150    455.0\n",
      "Name: price, Length: 1949, dtype: float64\n"
     ]
    }
   ],
   "source": [
    "print(y_val)"
   ]
  },
  {
   "cell_type": "code",
   "execution_count": 7,
   "metadata": {},
   "outputs": [
    {
     "data": {
      "text/plain": [
       "<matplotlib.collections.PathCollection at 0x1a178eff50>"
      ]
     },
     "execution_count": 7,
     "metadata": {},
     "output_type": "execute_result"
    },
    {
     "data": {
      "image/png": "[encoded data removed]",
      "text/plain": [
       "<Figure size 432x288 with 1 Axes>"
      ]
     },
     "metadata": {
      "needs_background": "light"
     },
     "output_type": "display_data"
    }
   ],
   "source": [
    "plt.scatter(data_train.review_scores_value,data_train.price)"
   ]
  },
  {
   "cell_type": "code",
   "execution_count": 8,
   "metadata": {},
   "outputs": [
    {
     "data": {
      "text/plain": [
       "0.34332386472669374"
      ]
     },
     "execution_count": 8,
     "metadata": {},
     "output_type": "execute_result"
    }
   ],
   "source": [
    "reg=LinearRegression()\n",
    "reg.fit(x_train,y_train)\n",
    "reg.score(x_val,y_val)"
   ]
  },
  {
   "cell_type": "code",
   "execution_count": 12,
   "metadata": {},
   "outputs": [
    {
     "data": {
      "text/plain": [
       "0.5066803768301427"
      ]
     },
     "execution_count": 12,
     "metadata": {},
     "output_type": "execute_result"
    }
   ],
   "source": [
    "from sklearn import ensemble\n",
    "clf=ensemble.GradientBoostingRegressor(n_estimators=400,max_depth=5,min_samples_split=2,learning_rate=0.1,loss='ls')\n",
    "clf.fit(x_train,y_train)\n",
    "clf.score(x_val,y_val)"
   ]
  },
  {
   "cell_type": "code",
   "execution_count": null,
   "metadata": {},
   "outputs": [],
   "source": []
  }
 ],
 "metadata": {
  "kernelspec": {
   "display_name": "Python 3",
   "language": "python",
   "name": "python3"
  },
  "language_info": {
   "codemirror_mode": {
    "name": "ipython",
    "version": 3
   },
   "file_extension": ".py",
   "mimetype": "text/x-python",
   "name": "python",
   "nbconvert_exporter": "python",
   "pygments_lexer": "ipython3",
   "version": "3.7.5"
  }
 },
 "nbformat": 4,
 "nbformat_minor": 2
}
